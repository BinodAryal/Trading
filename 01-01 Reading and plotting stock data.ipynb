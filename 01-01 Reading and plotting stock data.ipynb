{
 "cells": [
  {
   "cell_type": "code",
   "execution_count": 3,
   "metadata": {
    "collapsed": false,
    "scrolled": true
   },
   "outputs": [
    {
     "name": "stdout",
     "output_type": "stream",
     "text": [
      "          Date       Open       High        Low      Close    Volume  \\\n",
      "0   2016-09-14  29.809999  30.000000  29.670000  29.700001  50425700   \n",
      "1   2016-09-13  30.219999  30.250000  29.719999  29.850000  45066200   \n",
      "2   2016-09-12  30.000000  30.570000  29.840000  30.490000  41407300   \n",
      "3   2016-09-09  30.820000  30.820000  30.110001  30.110001  44619700   \n",
      "4   2016-09-08  31.000000  31.049999  30.900000  31.040001  30256200   \n",
      "5   2016-09-07  30.990000  31.059999  30.799999  31.059999  27266900   \n",
      "6   2016-09-06  31.309999  31.340000  30.799999  31.049999  40955700   \n",
      "7   2016-09-02  31.250000  31.450001  31.230000  31.290001  20807500   \n",
      "8   2016-09-01  31.150000  31.290001  30.959999  31.200001  41255600   \n",
      "9   2016-08-31  31.370001  31.370001  31.190001  31.240000  33416300   \n",
      "10  2016-08-30  31.340000  31.469999  31.299999  31.370001  18137900   \n",
      "11  2016-08-29  31.180000  31.450001  31.170000  31.360001  21248900   \n",
      "12  2016-08-26  31.270000  31.459999  31.139999  31.230000  22265600   \n",
      "13  2016-08-25  31.190001  31.299999  31.129999  31.209999  17027900   \n",
      "14  2016-08-24  31.270000  31.350000  31.170000  31.219999  22045100   \n",
      "15  2016-08-23  31.450001  31.570000  31.230000  31.230000  32116700   \n",
      "16  2016-08-22  31.170000  31.430000  31.080000  31.320000  20460500   \n",
      "17  2016-08-19  31.320000  31.400000  31.180000  31.250000  24742800   \n",
      "18  2016-08-18  31.250000  31.430000  31.190001  31.430000  28041200   \n",
      "19  2016-08-17  31.260000  31.330000  31.180000  31.290001  17598100   \n",
      "20  2016-08-16  31.139999  31.290001  31.080000  31.190001  22383600   \n",
      "21  2016-08-15  31.299999  31.350000  31.219999  31.240000  19553300   \n",
      "\n",
      "    Adj Close  \n",
      "0   29.700001  \n",
      "1   29.850000  \n",
      "2   30.490000  \n",
      "3   30.110001  \n",
      "4   31.040001  \n",
      "5   31.059999  \n",
      "6   31.049999  \n",
      "7   31.290001  \n",
      "8   31.200001  \n",
      "9   31.240000  \n",
      "10  31.370001  \n",
      "11  31.360001  \n",
      "12  31.230000  \n",
      "13  31.209999  \n",
      "14  31.219999  \n",
      "15  31.230000  \n",
      "16  31.320000  \n",
      "17  31.250000  \n",
      "18  31.430000  \n",
      "19  31.290001  \n",
      "20  31.190001  \n",
      "21  31.240000  \n"
     ]
    }
   ],
   "source": [
    "import pandas as pd\n",
    "\n",
    "def test_run():\n",
    "    df = pd.read_csv(\"http://chart.finance.yahoo.com/table.csv?s=GE&a=7&b=14&c=2016&d=8&e=14&f=2016&g=d&ignore=.csv\")\n",
    "    print df\n",
    "if __name__ == \"__main__\":\n",
    "    test_run()"
   ]
  },
  {
   "cell_type": "code",
   "execution_count": 6,
   "metadata": {
    "collapsed": false
   },
   "outputs": [],
   "source": [
    "from matplotlib.pyplot import plot"
   ]
  },
  {
   "cell_type": "code",
   "execution_count": 5,
   "metadata": {
    "collapsed": false
   },
   "outputs": [
    {
     "data": {
      "text/plain": [
       "<matplotlib.axes._subplots.AxesSubplot at 0x117edf6d0>"
      ]
     },
     "execution_count": 5,
     "metadata": {},
     "output_type": "execute_result"
    },
    {
     "data": {
      "image/png": "[encoded data removed]",
      "text/plain": [
       "<matplotlib.figure.Figure at 0x117ebbe50>"
      ]
     },
     "metadata": {},
     "output_type": "display_data"
    }
   ],
   "source": [
    "url = \"http://chart.finance.yahoo.com/table.csv?s=GE&a=7&b=14&c=2016&d=8&e=14&f=2016&g=d&ignore=.csv\"\n",
    "import urllib2\n",
    "ge_csv = urllib2.urlopen(url)\n",
    "import pandas as pd\n",
    "ge = pd.read_csv(ge_csv, index_col = 0, parse_dates = True)\n",
    "%matplotlib inline\n",
    "from matplotlib.pyplot import plot\n",
    "ge.plot(y = 'Adj Close')"
   ]
  },
  {
   "cell_type": "code",
   "execution_count": 11,
   "metadata": {
    "collapsed": false
   },
   "outputs": [
    {
     "name": "stdout",
     "output_type": "stream",
     "text": [
      "Max Close\n",
      "AAPL 680.44\n",
      "Max Close\n",
      "IBM 209.5\n"
     ]
    }
   ],
   "source": [
    "#max closing value\n",
    "import pandas as pd\n",
    "\n",
    "def get_max_close(symbol):\n",
    "    df = pd.read_csv(\"data/{}.csv\".format(symbol))\n",
    "    return df['Close'].max()\n",
    "\n",
    "def test_run():\n",
    "    for symbol in ['AAPL','IBM']:\n",
    "        print \"Max Close\"\n",
    "        print symbol, get_max_close(symbol)\n",
    "    \n",
    "    \n",
    "if __name__ == \"__main__\":\n",
    "    test_run()"
   ]
  },
  {
   "cell_type": "code",
   "execution_count": 12,
   "metadata": {
    "collapsed": false
   },
   "outputs": [
    {
     "name": "stdout",
     "output_type": "stream",
     "text": [
      "Mean Volume\n",
      "AAPL 21491431.3386\n",
      "Mean Volume\n",
      "IBM 7103570.80315\n"
     ]
    }
   ],
   "source": [
    "\"\"\"Compute mean volume\"\"\"\n",
    "\n",
    "import pandas as pd\n",
    "\n",
    "def get_mean_volume(symbol):\n",
    "    \"\"\"Return the mean volume for stock indicated by symbol.\n",
    "    \n",
    "    Note: Data for a stock is stored in file: data/<symbol>.csv\n",
    "    \"\"\"\n",
    "    df = pd.read_csv(\"data/{}.csv\".format(symbol))  # read in data\n",
    "    # TODO: Compute and return the mean volume for this stock\n",
    "    return df['Volume'].mean()\n",
    "\n",
    "\n",
    "def test_run():\n",
    "    \"\"\"Function called by Test Run.\"\"\"\n",
    "    for symbol in ['AAPL', 'IBM']:\n",
    "        print \"Mean Volume\"\n",
    "        print symbol, get_mean_volume(symbol)\n",
    "\n",
    "\n",
    "if __name__ == \"__main__\":\n",
    "    test_run()\n"
   ]
  },
  {
   "cell_type": "code",
   "execution_count": 16,
   "metadata": {
    "collapsed": false
   },
   "outputs": [
    {
     "data": {
      "image/png": "[encoded data removed]",
      "text/plain": [
       "<matplotlib.figure.Figure at 0x1156897d0>"
      ]
     },
     "metadata": {},
     "output_type": "display_data"
    }
   ],
   "source": [
    "\"\"\"Plot High prices for IBM\"\"\"\n",
    "\n",
    "import pandas as pd\n",
    "import matplotlib.pyplot as plt\n",
    "\n",
    "def test_run():\n",
    "    df = pd.read_csv(\"data/IBM.csv\")\n",
    "    # TODO: Your code here\n",
    "    %matplotlib inline\n",
    "    #print df['High']\n",
    "    df['High'].plot()\n",
    "    \n",
    "    \n",
    "    plt.show()  # must be called to show plots\n",
    "\n",
    "\n",
    "if __name__ == \"__main__\":\n",
    "    test_run()"
   ]
  },
  {
   "cell_type": "code",
   "execution_count": null,
   "metadata": {
    "collapsed": true
   },
   "outputs": [],
   "source": []
  }
 ],
 "metadata": {
  "kernelspec": {
   "display_name": "Python [Root]",
   "language": "python",
   "name": "Python [Root]"
  },
  "language_info": {
   "codemirror_mode": {
    "name": "ipython",
    "version": 2
   },
   "file_extension": ".py",
   "mimetype": "text/x-python",
   "name": "python",
   "nbconvert_exporter": "python",
   "pygments_lexer": "ipython2",
   "version": "2.7.12"
  }
 },
 "nbformat": 4,
 "nbformat_minor": 0
}

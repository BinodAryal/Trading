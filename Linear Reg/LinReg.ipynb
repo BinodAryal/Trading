{
 "cells": [
  {
   "cell_type": "code",
   "execution_count": 1,
   "metadata": {},
   "outputs": [
    {
     "name": "stdout",
     "output_type": "stream",
     "text": [
      "(400, 2)\n",
      "(400,)\n",
      "\n",
      "In sample results\n",
      "RMSE:  0.705375081106\n",
      "corr:  0.040607011093\n",
      "\n",
      "Out of sample results\n",
      "RMSE:  0.70409341685\n",
      "corr:  0.0162663457175\n"
     ]
    },
    {
     "name": "stderr",
     "output_type": "stream",
     "text": [
      "/Users/Binod/anaconda/lib/python2.7/site-packages/ipykernel_launcher.py:18: VisibleDeprecationWarning: using a non-integer number instead of an integer will result in an error in the future\n",
      "/Users/Binod/anaconda/lib/python2.7/site-packages/ipykernel_launcher.py:19: VisibleDeprecationWarning: using a non-integer number instead of an integer will result in an error in the future\n",
      "/Users/Binod/anaconda/lib/python2.7/site-packages/ipykernel_launcher.py:20: VisibleDeprecationWarning: using a non-integer number instead of an integer will result in an error in the future\n",
      "/Users/Binod/anaconda/lib/python2.7/site-packages/ipykernel_launcher.py:21: VisibleDeprecationWarning: using a non-integer number instead of an integer will result in an error in the future\n"
     ]
    }
   ],
   "source": [
    "\"\"\"\n",
    "Test a learner.  (c) 2015 Tucker Balch\n",
    "author @Binod Aryal\n",
    "\"\"\"\n",
    "\n",
    "import numpy as np\n",
    "import math\n",
    "import LinRegLearner as lrl\n",
    "\n",
    "if __name__==\"__main__\":\n",
    "    inf = open('Data/ripple.csv')\n",
    "    data = np.array([map(float,s.strip().split(',')) for s in inf.readlines()])\n",
    "\n",
    "    # compute how much of the data is training and testing\n",
    "    train_rows = math.floor(0.6* data.shape[0])\n",
    "    test_rows = data.shape[0] - train_rows\n",
    "\n",
    "    # separate out training and testing data\n",
    "    trainX = data[:train_rows,0:-1]\n",
    "    trainY = data[:train_rows,-1]\n",
    "    testX = data[train_rows:,0:-1]\n",
    "    testY = data[train_rows:,-1]\n",
    "\n",
    "    print testX.shape\n",
    "    print testY.shape\n",
    "\n",
    "    # create a learner and train it\n",
    "    learner = lrl.LinRegLearner(verbose = True) # create a LinRegLearner\n",
    "    learner.addEvidence(trainX, trainY) # train it\n",
    "\n",
    "    # evaluate in sample\n",
    "    predY = learner.query(trainX) # get the predictions\n",
    "    rmse = math.sqrt(((trainY - predY) ** 2).sum()/trainY.shape[0])\n",
    "    print\n",
    "    print \"In sample results\"\n",
    "    print \"RMSE: \", rmse\n",
    "    c = np.corrcoef(predY, y=trainY)\n",
    "    print \"corr: \", c[0,1]\n",
    "\n",
    "    # evaluate out of sample\n",
    "    predY = learner.query(testX) # get the predictions\n",
    "    rmse = math.sqrt(((testY - predY) ** 2).sum()/testY.shape[0])\n",
    "    print\n",
    "    print \"Out of sample results\"\n",
    "    print \"RMSE: \", rmse\n",
    "    c = np.corrcoef(predY, y=testY)\n",
    "    print \"corr: \", c[0,1]\n",
    "\n"
   ]
  },
  {
   "cell_type": "code",
   "execution_count": null,
   "metadata": {
    "collapsed": true
   },
   "outputs": [],
   "source": []
  }
 ],
 "metadata": {
  "kernelspec": {
   "display_name": "Python 2",
   "language": "python",
   "name": "python2"
  },
  "language_info": {
   "codemirror_mode": {
    "name": "ipython",
    "version": 2
   },
   "file_extension": ".py",
   "mimetype": "text/x-python",
   "name": "python",
   "nbconvert_exporter": "python",
   "pygments_lexer": "ipython2",
   "version": "2.7.13"
  }
 },
 "nbformat": 4,
 "nbformat_minor": 2
}

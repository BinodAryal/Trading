{
 "cells": [
  {
   "cell_type": "code",
   "execution_count": 5,
   "metadata": {
    "collapsed": false
   },
   "outputs": [
    {
     "name": "stdout",
     "output_type": "stream",
     "text": [
      "-0.00032112212917 -0.00128448851667 -0.000642244258341 -0.00032112212917 -0.000642244258341 -0.00160561064585 -0.00160561064584 -0.00160561064584 -0.00032112212917 -0.00032112212917\n"
     ]
    }
   ],
   "source": [
    "import matplotlib\n",
    "import matplotlib.pyplot as plt\n",
    "import matplotlib.ticker as mticker\n",
    "import matplotlib.dates as mdates\n",
    "import numpy as np\n",
    "import time\n",
    "\n",
    "\n",
    "date,bid,ask  = np.loadtxt('GBPUSD1d.txt', unpack = True, delimiter = ',',\n",
    "                              converters={0:mdates.strpdate2num('%Y%m%d%H%M%S')})\n",
    "\n",
    "\n",
    "def percentChange(startPoint, currentPoint):\n",
    "    return ((float(currentPoint)-startPoint)/startPoint*100.0)\n",
    "\n",
    "\n",
    "def patternFinder():\n",
    "    avgLine = ((bid+ask)/2)\n",
    "    x = len(avgLine)\n",
    "    \n",
    "    y = 11\n",
    "    while y<x:\n",
    "        p1 = percentChange(avgLine[y-10], avgLine[y-9])\n",
    "        p2 = percentChange(avgLine[y-10], avgLine[y-8])\n",
    "        p3 = percentChange(avgLine[y-10], avgLine[y-7])\n",
    "        p4 = percentChange(avgLine[y-10], avgLine[y-6])\n",
    "        p5 = percentChange(avgLine[y-10], avgLine[y-5])\n",
    "        p6 = percentChange(avgLine[y-10], avgLine[y-4])\n",
    "        p7 = percentChange(avgLine[y-10], avgLine[y-3])\n",
    "        p8 = percentChange(avgLine[y-10], avgLine[y-2])\n",
    "        p9 = percentChange(avgLine[y-10], avgLine[y-1])\n",
    "        p10 = percentChange(avgLine[y-10], avgLine[y])\n",
    "        \n",
    "        outcomeRange = avgLine[y+20:y+30]\n",
    "        currentPoint = avgLine[y]\n",
    "        \n",
    "        #print reduce(lambda x, y: x+y, outcomeRange) / len(outcomeRange)\n",
    "        #print currentPoint\n",
    "        #print '..........................................'\n",
    "        y += 1\n",
    "    print p1,p2,p3,p4,p5,p6,p7,p8,p9,p10\n",
    "        #time.sleep(5)\n",
    "\n",
    "def graphRAWFX():\n",
    "\n",
    "    fig = plt.figure(figsize = (10,7))\n",
    "    ax1 = plt.subplot2grid((40,40), (0,0), rowspan=40, colspan=40)\n",
    "    #%matplotlib inline\n",
    "    ax1.plot(date,bid)\n",
    "    ax1.plot(date,ask)\n",
    "    plt.gca().get_yaxis().get_major_formatter().set_useOffset(False)\n",
    "    ax1.xaxis.set_major_formatter(mdates.DateFormatter('%Y-%m-%d %H:%M:%S'))\n",
    "    for label in ax1.xaxis.get_ticklabels():\n",
    "        label.set_rotation(45)\n",
    "    ax1_2 = ax1.twinx()\n",
    "    ax1_2.fill_between(date, 0, (ask-bid), facecolor='g', alpha =.3)\n",
    "    plt.subplots_adjust(bottom=.23)\n",
    "    \n",
    "    plt.grid(True)\n",
    "    plt.show()\n",
    "    \n",
    "if __name__ == \"__main__\":\n",
    "    #graphRAWFX()\n",
    "    percentChange(5,8)\n",
    "    patternFinder()\n",
    "    "
   ]
  },
  {
   "cell_type": "code",
   "execution_count": null,
   "metadata": {
    "collapsed": true
   },
   "outputs": [],
   "source": []
  },
  {
   "cell_type": "code",
   "execution_count": null,
   "metadata": {
    "collapsed": true
   },
   "outputs": [],
   "source": []
  }
 ],
 "metadata": {
  "anaconda-cloud": {},
  "kernelspec": {
   "display_name": "Python [Root]",
   "language": "python",
   "name": "Python [Root]"
  },
  "language_info": {
   "codemirror_mode": {
    "name": "ipython",
    "version": 2
   },
   "file_extension": ".py",
   "mimetype": "text/x-python",
   "name": "python",
   "nbconvert_exporter": "python",
   "pygments_lexer": "ipython2",
   "version": "2.7.12"
  }
 },
 "nbformat": 4,
 "nbformat_minor": 0
}

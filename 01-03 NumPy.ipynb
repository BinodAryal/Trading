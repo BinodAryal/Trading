{
 "cells": [
  {
   "cell_type": "code",
   "execution_count": 1,
   "metadata": {
    "collapsed": false
   },
   "outputs": [
    {
     "name": "stdout",
     "output_type": "stream",
     "text": [
      "Array: [ 9  6  2  3 12 14  7 10]\n",
      "Maximum value: 14\n",
      "Index of max.: 5\n"
     ]
    }
   ],
   "source": [
    "\"\"\"Locate maximum value.\"\"\"\n",
    "\n",
    "import numpy as np\n",
    "\n",
    "\n",
    "def get_max_index(a):\n",
    "    \"\"\"Return the index of the maximum value in given 1D array.\"\"\"\n",
    "    return a.argmax()\n",
    "\n",
    "\n",
    "def test_run():\n",
    "    a = np.array([9, 6, 2, 3, 12, 14, 7, 10], dtype=np.int32)  # 32-bit integer array\n",
    "    print \"Array:\", a\n",
    "    \n",
    "    # Find the maximum and its index in array\n",
    "    print \"Maximum value:\", a.max()\n",
    "    print \"Index of max.:\", get_max_index(a)\n",
    "\n",
    "\n",
    "if __name__ == \"__main__\":\n",
    "    test_run()\n"
   ]
  },
  {
   "cell_type": "code",
   "execution_count": null,
   "metadata": {
    "collapsed": true
   },
   "outputs": [],
   "source": []
  }
 ],
 "metadata": {
  "anaconda-cloud": {},
  "kernelspec": {
   "display_name": "Python [Root]",
   "language": "python",
   "name": "Python [Root]"
  },
  "language_info": {
   "codemirror_mode": {
    "name": "ipython",
    "version": 2
   },
   "file_extension": ".py",
   "mimetype": "text/x-python",
   "name": "python",
   "nbconvert_exporter": "python",
   "pygments_lexer": "ipython2",
   "version": "2.7.12"
  }
 },
 "nbformat": 4,
 "nbformat_minor": 0
}
